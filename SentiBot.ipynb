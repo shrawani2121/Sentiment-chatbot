{
  "nbformat": 4,
  "nbformat_minor": 0,
  "metadata": {
    "colab": {
      "provenance": []
    },
    "kernelspec": {
      "name": "python3",
      "display_name": "Python 3"
    },
    "language_info": {
      "name": "python"
    }
  },
  "cells": [
    {
      "cell_type": "code",
      "execution_count": null,
      "metadata": {
        "id": "J1JsP2qBpzhd"
      },
      "outputs": [],
      "source": [
        "from transformers import pipeline"
      ]
    },
    {
      "cell_type": "code",
      "source": [
        "# Load the sentiment analysis model\n",
        "sentiment_model = pipeline(\"sentiment-analysis\")\n",
        "\n",
        "def get_sentiment(text):\n",
        "    sentiment = sentiment_model(text)[0]\n",
        "    return sentiment\n",
        "\n",
        "def chatbot_response(user_input):\n",
        "    # Get sentiment of the user input\n",
        "    sentiment = get_sentiment(user_input)\n",
        "\n",
        "    # Determine response based on sentiment\n",
        "    if sentiment['label'] == 'POSITIVE':\n",
        "        response = \"It seems like you're feeling positive!\"\n",
        "    elif sentiment['label'] == 'NEGATIVE':\n",
        "        response = \"It seems like you're feeling negative.\"\n",
        "    else:\n",
        "        response = \"I'm having trouble determining your sentiment.\"\n",
        "\n",
        "    return response"
      ],
      "metadata": {
        "colab": {
          "base_uri": "https://localhost:8080/"
        },
        "id": "Y8Vf-MCoreTb",
        "outputId": "8b34e1ed-053a-4a71-a86d-7edc3431bdf9"
      },
      "execution_count": null,
      "outputs": [
        {
          "output_type": "stream",
          "name": "stderr",
          "text": [
            "No model was supplied, defaulted to distilbert/distilbert-base-uncased-finetuned-sst-2-english and revision af0f99b (https://huggingface.co/distilbert/distilbert-base-uncased-finetuned-sst-2-english).\n",
            "Using a pipeline without specifying a model name and revision in production is not recommended.\n",
            "/usr/local/lib/python3.10/dist-packages/huggingface_hub/file_download.py:1132: FutureWarning: `resume_download` is deprecated and will be removed in version 1.0.0. Downloads always resume when possible. If you want to force a new download, use `force_download=True`.\n",
            "  warnings.warn(\n"
          ]
        }
      ]
    },
    {
      "cell_type": "code",
      "source": [
        "# Example interaction loop\n",
        "print(\"Welcome to the Sentiment Analysis Chatbot! Type 'exit' to end the conversation.\")\n",
        "while True:\n",
        "    user_input = input(\"You: \")\n",
        "    if user_input.lower() == 'exit':\n",
        "        print(\"Chatbot: Goodbye!\")\n",
        "        break\n",
        "    response = chatbot_response(user_input)\n",
        "    print(f\"Chatbot: {response}\")"
      ],
      "metadata": {
        "colab": {
          "base_uri": "https://localhost:8080/"
        },
        "id": "lY00U1AGrmX_",
        "outputId": "eba90d3e-4915-4a96-f4ea-aca7e144218b"
      },
      "execution_count": null,
      "outputs": [
        {
          "output_type": "stream",
          "name": "stdout",
          "text": [
            "Welcome to the Sentiment Analysis Chatbot! Type 'exit' to end the conversation.\n",
            "You: The weather is very good today\n",
            "Chatbot: It seems like you're feeling positive!\n",
            "You: Its very depressing to be alone\n",
            "Chatbot: It seems like you're feeling negative.\n",
            "You: exit\n",
            "Chatbot: Goodbye!\n"
          ]
        }
      ]
    }
  ]
}